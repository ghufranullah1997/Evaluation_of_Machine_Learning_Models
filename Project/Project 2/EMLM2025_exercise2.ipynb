{
 "cells": [
  {
   "cell_type": "markdown",
   "metadata": {},
   "source": [
    "# Exercise 2 | TKO_7092 Evaluation of Machine Learning Methods 2025\n",
    "## deadline: 12.2.2025 - 23:59\n",
    "\n",
    "Regarding any questions about this exercise, please contact course assistant Jonne Pohjankukka (jjepoh@utu.fi)\n",
    "\n",
    "********************************************\n",
    "\n",
    "Student name: Ghufran Ullah\n",
    "\n",
    "Student number: 2411327\n",
    "\n",
    "Student email: ghufran.u.ullah@utu.fi\n",
    "\n",
    "********************************************"
   ]
  },
  {
   "cell_type": "markdown",
   "metadata": {},
   "source": [
    "## Water permeability prediction in forestry <br>\n",
    "\n",
    "In this task, the client wants you to estimate the spatial prediction performance of K-nearest neighbor regression model with K=7 (7NN), using spatial leave-one-out cross-validation (i.e. SKCV, with number of folds == number of data points). The client wants you to use the C-index as the performance measure.  \n",
    "\n",
    "In other words, the client wants you to answer the question: \"What happens to the prediction performance of water permeability using 7-nearest neighbor regression model, when the geographical distance between known data and unknown data increases?\".\n",
    "\n",
    "In this task, you have three data files available (with 1691 data points): \n",
    "\n",
    "- input.csv, contains the 75 predictor features. \n",
    "- output.csv, contains the water permebility values. \n",
    "- coordinates.csv, contains the corresponding geographical coordinate locations of the data points. The unit of the coordinates is metre, and you can use Euclidean distance to calculate distances between the coordinate points. \n",
    "\n",
    "Implement the following tasks to complete this exercise:\n",
    "\n",
    "********************************************\n",
    "\n",
    "#### 1. Z-score standardize the predictor features (input.csv). \n",
    "\n",
    "#### 2. Perform spatial leave-one-out cross-validation with 7NN model for the provided data set (refer to the lectures 3.1.3 and 3.1.4 in 'Evaluating spatial models with spatial cross-validation' for help). Estimate the water permeability prediction performance (using 7NN model and C-index) with the following distance parameter values: d = 0, 20, 40, ..., 300 (that is, 20 meter intervals from 0m to 300m). \n",
    "\n",
    "#### 3. When you have calculated the C-index performance measure for each value of d, visualize the results with the C-index (y-axis) as a function of d (x-axis).\n",
    "\n",
    "********************************************\n",
    "\n",
    "Your .ipynb-file must include the following: \n",
    "\n",
    "- Your own implementation of the spatial leave-one-out cross-validation for the current task. You can use third-party libraries (e.g. Scikit-learn) if you want for implementing e.g. the 7-nearest neighbor. Also, try to follow good programming practices and add comments to relevant parts of your code explaining what you are doing and why.\n",
    "\n",
    "\n",
    "- Plot of the graph C-index vs. distance parameter value. \n",
    "\n",
    "\n",
    "<br><br><br>\n",
    "-- START IMPLEMENTING YOUR EXERCISE AFTER THIS LINE --\n",
    "<br><br><br>"
   ]
  },
  {
   "cell_type": "markdown",
   "metadata": {},
   "source": [
    "### Import necessary libraries"
   ]
  },
  {
   "cell_type": "code",
   "execution_count": 9,
   "metadata": {},
   "outputs": [],
   "source": [
    "# In this cell, import all the libraries that you need. For example: \n",
    "import pandas as pd\n",
    "import numpy as np\n",
    "from sklearn.preprocessing import StandardScaler\n",
    "from sklearn.neighbors import KNeighborsRegressor\n",
    "from scipy.spatial.distance import cdist\n",
    "import matplotlib.pyplot as plt\n"
   ]
  },
  {
   "cell_type": "markdown",
   "metadata": {},
   "source": [
    "### Read in the datasets"
   ]
  },
  {
   "cell_type": "code",
   "execution_count": 4,
   "metadata": {},
   "outputs": [
    {
     "name": "stdout",
     "output_type": "stream",
     "text": [
      "Input Data Dimensions: (1690, 75)\n",
      "Output Data Dimensions: (1690, 1)\n",
      "Coordinates Data Dimensions: (1690, 2)\n"
     ]
    }
   ],
   "source": [
    "# In this cell, read the files input.csv, output.csv and coordinates.csv.\n",
    "# Print out the dataset dimesions (i.e. number of rows and columns).\n",
    "\n",
    "# Step 2: Read in the datasets\n",
    "input_data = pd.read_csv(\"input.csv\")\n",
    "output_data = pd.read_csv(\"output.csv\")\n",
    "coordinates_data = pd.read_csv(\"coordinates.csv\")\n",
    "\n",
    "# Print dataset dimensions\n",
    "print(\"Input Data Dimensions:\", input_data.shape)\n",
    "print(\"Output Data Dimensions:\", output_data.shape)\n",
    "print(\"Coordinates Data Dimensions:\", coordinates_data.shape)\n"
   ]
  },
  {
   "cell_type": "code",
   "execution_count": 40,
   "metadata": {},
   "outputs": [
    {
     "data": {
      "text/html": [
       "<div>\n",
       "<style scoped>\n",
       "    .dataframe tbody tr th:only-of-type {\n",
       "        vertical-align: middle;\n",
       "    }\n",
       "\n",
       "    .dataframe tbody tr th {\n",
       "        vertical-align: top;\n",
       "    }\n",
       "\n",
       "    .dataframe thead th {\n",
       "        text-align: right;\n",
       "    }\n",
       "</style>\n",
       "<table border=\"1\" class=\"dataframe\">\n",
       "  <thead>\n",
       "    <tr style=\"text-align: right;\">\n",
       "      <th></th>\n",
       "      <th>-5.319627000693968877e-02</th>\n",
       "      <th>-2.192960385319173422e-01</th>\n",
       "      <th>2.100203710608411767e-01</th>\n",
       "      <th>7.044248857837395184e-01</th>\n",
       "      <th>3.394767803718533039e-01</th>\n",
       "      <th>4.126382430764711229e-01</th>\n",
       "      <th>3.310743813668211577e-01</th>\n",
       "      <th>-3.441122815090714299e-02</th>\n",
       "      <th>-1.844805104342988333e-01</th>\n",
       "      <th>3.073453044043934490e-01</th>\n",
       "      <th>...</th>\n",
       "      <th>2.195409042303054503e-01</th>\n",
       "      <th>5.391189660033040010e-01</th>\n",
       "      <th>-6.452537679872522025e-01</th>\n",
       "      <th>-5.199176372857478023e-01</th>\n",
       "      <th>-4.470893658464750731e-01</th>\n",
       "      <th>5.540967867205053299e-01</th>\n",
       "      <th>8.728506609344185985e-02</th>\n",
       "      <th>-1.091932125630579592e-01</th>\n",
       "      <th>-9.136390741008875160e-01</th>\n",
       "      <th>-4.614792137924043081e-01</th>\n",
       "    </tr>\n",
       "  </thead>\n",
       "  <tbody>\n",
       "    <tr>\n",
       "      <th>0</th>\n",
       "      <td>-0.632098</td>\n",
       "      <td>-0.682804</td>\n",
       "      <td>-0.285522</td>\n",
       "      <td>-0.369542</td>\n",
       "      <td>-0.138305</td>\n",
       "      <td>2.489725</td>\n",
       "      <td>2.051755</td>\n",
       "      <td>-0.034411</td>\n",
       "      <td>-0.246906</td>\n",
       "      <td>-0.226797</td>\n",
       "      <td>...</td>\n",
       "      <td>0.219541</td>\n",
       "      <td>-0.169259</td>\n",
       "      <td>-0.645254</td>\n",
       "      <td>2.475438</td>\n",
       "      <td>-0.447089</td>\n",
       "      <td>-0.288927</td>\n",
       "      <td>-0.035919</td>\n",
       "      <td>-1.481978</td>\n",
       "      <td>-1.087664</td>\n",
       "      <td>-0.461479</td>\n",
       "    </tr>\n",
       "    <tr>\n",
       "      <th>1</th>\n",
       "      <td>-0.674980</td>\n",
       "      <td>-0.597421</td>\n",
       "      <td>-0.568689</td>\n",
       "      <td>-0.983237</td>\n",
       "      <td>-0.828435</td>\n",
       "      <td>-0.496087</td>\n",
       "      <td>-0.451053</td>\n",
       "      <td>-0.034411</td>\n",
       "      <td>-0.324938</td>\n",
       "      <td>-0.627405</td>\n",
       "      <td>...</td>\n",
       "      <td>-1.047724</td>\n",
       "      <td>-0.877636</td>\n",
       "      <td>-0.645254</td>\n",
       "      <td>-0.519918</td>\n",
       "      <td>-0.447089</td>\n",
       "      <td>-0.375320</td>\n",
       "      <td>-0.159124</td>\n",
       "      <td>0.349947</td>\n",
       "      <td>0.134707</td>\n",
       "      <td>-0.809315</td>\n",
       "    </tr>\n",
       "    <tr>\n",
       "      <th>2</th>\n",
       "      <td>-0.331927</td>\n",
       "      <td>-0.154649</td>\n",
       "      <td>1.307292</td>\n",
       "      <td>0.090730</td>\n",
       "      <td>0.419107</td>\n",
       "      <td>1.061728</td>\n",
       "      <td>0.956776</td>\n",
       "      <td>-0.034411</td>\n",
       "      <td>-0.301529</td>\n",
       "      <td>-0.360333</td>\n",
       "      <td>...</td>\n",
       "      <td>-1.047724</td>\n",
       "      <td>-0.877636</td>\n",
       "      <td>-0.645254</td>\n",
       "      <td>-0.519918</td>\n",
       "      <td>-0.447089</td>\n",
       "      <td>-0.383278</td>\n",
       "      <td>0.703308</td>\n",
       "      <td>0.467238</td>\n",
       "      <td>0.107450</td>\n",
       "      <td>-0.832933</td>\n",
       "    </tr>\n",
       "    <tr>\n",
       "      <th>3</th>\n",
       "      <td>-0.610657</td>\n",
       "      <td>-0.673046</td>\n",
       "      <td>-0.161636</td>\n",
       "      <td>-0.522966</td>\n",
       "      <td>-0.377196</td>\n",
       "      <td>0.672274</td>\n",
       "      <td>0.800351</td>\n",
       "      <td>-0.034411</td>\n",
       "      <td>-0.363954</td>\n",
       "      <td>-0.961244</td>\n",
       "      <td>...</td>\n",
       "      <td>-1.047724</td>\n",
       "      <td>-0.877636</td>\n",
       "      <td>2.098494</td>\n",
       "      <td>0.977760</td>\n",
       "      <td>1.960643</td>\n",
       "      <td>-0.296657</td>\n",
       "      <td>0.087285</td>\n",
       "      <td>-0.333328</td>\n",
       "      <td>-0.636876</td>\n",
       "      <td>-0.542584</td>\n",
       "    </tr>\n",
       "    <tr>\n",
       "      <th>4</th>\n",
       "      <td>-0.256884</td>\n",
       "      <td>-0.220516</td>\n",
       "      <td>1.360386</td>\n",
       "      <td>0.857849</td>\n",
       "      <td>0.684542</td>\n",
       "      <td>-0.236451</td>\n",
       "      <td>0.018223</td>\n",
       "      <td>-0.034411</td>\n",
       "      <td>-0.223497</td>\n",
       "      <td>0.107042</td>\n",
       "      <td>...</td>\n",
       "      <td>0.219541</td>\n",
       "      <td>1.247497</td>\n",
       "      <td>3.013076</td>\n",
       "      <td>-0.519918</td>\n",
       "      <td>-0.447089</td>\n",
       "      <td>-0.164565</td>\n",
       "      <td>0.210490</td>\n",
       "      <td>0.735021</td>\n",
       "      <td>-0.729130</td>\n",
       "      <td>-0.587591</td>\n",
       "    </tr>\n",
       "  </tbody>\n",
       "</table>\n",
       "<p>5 rows × 75 columns</p>\n",
       "</div>"
      ],
      "text/plain": [
       "   -5.319627000693968877e-02  -2.192960385319173422e-01  \\\n",
       "0                  -0.632098                  -0.682804   \n",
       "1                  -0.674980                  -0.597421   \n",
       "2                  -0.331927                  -0.154649   \n",
       "3                  -0.610657                  -0.673046   \n",
       "4                  -0.256884                  -0.220516   \n",
       "\n",
       "   2.100203710608411767e-01  7.044248857837395184e-01  \\\n",
       "0                 -0.285522                 -0.369542   \n",
       "1                 -0.568689                 -0.983237   \n",
       "2                  1.307292                  0.090730   \n",
       "3                 -0.161636                 -0.522966   \n",
       "4                  1.360386                  0.857849   \n",
       "\n",
       "   3.394767803718533039e-01  4.126382430764711229e-01  \\\n",
       "0                 -0.138305                  2.489725   \n",
       "1                 -0.828435                 -0.496087   \n",
       "2                  0.419107                  1.061728   \n",
       "3                 -0.377196                  0.672274   \n",
       "4                  0.684542                 -0.236451   \n",
       "\n",
       "   3.310743813668211577e-01  -3.441122815090714299e-02  \\\n",
       "0                  2.051755                  -0.034411   \n",
       "1                 -0.451053                  -0.034411   \n",
       "2                  0.956776                  -0.034411   \n",
       "3                  0.800351                  -0.034411   \n",
       "4                  0.018223                  -0.034411   \n",
       "\n",
       "   -1.844805104342988333e-01  3.073453044043934490e-01  ...  \\\n",
       "0                  -0.246906                 -0.226797  ...   \n",
       "1                  -0.324938                 -0.627405  ...   \n",
       "2                  -0.301529                 -0.360333  ...   \n",
       "3                  -0.363954                 -0.961244  ...   \n",
       "4                  -0.223497                  0.107042  ...   \n",
       "\n",
       "   2.195409042303054503e-01  5.391189660033040010e-01  \\\n",
       "0                  0.219541                 -0.169259   \n",
       "1                 -1.047724                 -0.877636   \n",
       "2                 -1.047724                 -0.877636   \n",
       "3                 -1.047724                 -0.877636   \n",
       "4                  0.219541                  1.247497   \n",
       "\n",
       "   -6.452537679872522025e-01  -5.199176372857478023e-01  \\\n",
       "0                  -0.645254                   2.475438   \n",
       "1                  -0.645254                  -0.519918   \n",
       "2                  -0.645254                  -0.519918   \n",
       "3                   2.098494                   0.977760   \n",
       "4                   3.013076                  -0.519918   \n",
       "\n",
       "   -4.470893658464750731e-01  5.540967867205053299e-01  \\\n",
       "0                  -0.447089                 -0.288927   \n",
       "1                  -0.447089                 -0.375320   \n",
       "2                  -0.447089                 -0.383278   \n",
       "3                   1.960643                 -0.296657   \n",
       "4                  -0.447089                 -0.164565   \n",
       "\n",
       "   8.728506609344185985e-02  -1.091932125630579592e-01  \\\n",
       "0                 -0.035919                  -1.481978   \n",
       "1                 -0.159124                   0.349947   \n",
       "2                  0.703308                   0.467238   \n",
       "3                  0.087285                  -0.333328   \n",
       "4                  0.210490                   0.735021   \n",
       "\n",
       "   -9.136390741008875160e-01  -4.614792137924043081e-01  \n",
       "0                  -1.087664                  -0.461479  \n",
       "1                   0.134707                  -0.809315  \n",
       "2                   0.107450                  -0.832933  \n",
       "3                  -0.636876                  -0.542584  \n",
       "4                  -0.729130                  -0.587591  \n",
       "\n",
       "[5 rows x 75 columns]"
      ]
     },
     "execution_count": 40,
     "metadata": {},
     "output_type": "execute_result"
    }
   ],
   "source": [
    "input_data.head()"
   ]
  },
  {
   "cell_type": "code",
   "execution_count": 41,
   "metadata": {},
   "outputs": [
    {
     "data": {
      "text/html": [
       "<div>\n",
       "<style scoped>\n",
       "    .dataframe tbody tr th:only-of-type {\n",
       "        vertical-align: middle;\n",
       "    }\n",
       "\n",
       "    .dataframe tbody tr th {\n",
       "        vertical-align: top;\n",
       "    }\n",
       "\n",
       "    .dataframe thead th {\n",
       "        text-align: right;\n",
       "    }\n",
       "</style>\n",
       "<table border=\"1\" class=\"dataframe\">\n",
       "  <thead>\n",
       "    <tr style=\"text-align: right;\">\n",
       "      <th></th>\n",
       "      <th>5.8359</th>\n",
       "    </tr>\n",
       "  </thead>\n",
       "  <tbody>\n",
       "    <tr>\n",
       "      <th>0</th>\n",
       "      <td>6.2592</td>\n",
       "    </tr>\n",
       "    <tr>\n",
       "      <th>1</th>\n",
       "      <td>6.9041</td>\n",
       "    </tr>\n",
       "    <tr>\n",
       "      <th>2</th>\n",
       "      <td>6.2065</td>\n",
       "    </tr>\n",
       "    <tr>\n",
       "      <th>3</th>\n",
       "      <td>7.0642</td>\n",
       "    </tr>\n",
       "    <tr>\n",
       "      <th>4</th>\n",
       "      <td>6.8203</td>\n",
       "    </tr>\n",
       "  </tbody>\n",
       "</table>\n",
       "</div>"
      ],
      "text/plain": [
       "   5.8359\n",
       "0  6.2592\n",
       "1  6.9041\n",
       "2  6.2065\n",
       "3  7.0642\n",
       "4  6.8203"
      ]
     },
     "execution_count": 41,
     "metadata": {},
     "output_type": "execute_result"
    }
   ],
   "source": [
    "output_data.head()"
   ]
  },
  {
   "cell_type": "code",
   "execution_count": 42,
   "metadata": {},
   "outputs": [
    {
     "data": {
      "text/html": [
       "<div>\n",
       "<style scoped>\n",
       "    .dataframe tbody tr th:only-of-type {\n",
       "        vertical-align: middle;\n",
       "    }\n",
       "\n",
       "    .dataframe tbody tr th {\n",
       "        vertical-align: top;\n",
       "    }\n",
       "\n",
       "    .dataframe thead th {\n",
       "        text-align: right;\n",
       "    }\n",
       "</style>\n",
       "<table border=\"1\" class=\"dataframe\">\n",
       "  <thead>\n",
       "    <tr style=\"text-align: right;\">\n",
       "      <th></th>\n",
       "      <th>4.5914e+05</th>\n",
       "      <th>7.5242e+06</th>\n",
       "    </tr>\n",
       "  </thead>\n",
       "  <tbody>\n",
       "    <tr>\n",
       "      <th>0</th>\n",
       "      <td>461590.0</td>\n",
       "      <td>7549000.0</td>\n",
       "    </tr>\n",
       "    <tr>\n",
       "      <th>1</th>\n",
       "      <td>462040.0</td>\n",
       "      <td>7549300.0</td>\n",
       "    </tr>\n",
       "    <tr>\n",
       "      <th>2</th>\n",
       "      <td>462040.0</td>\n",
       "      <td>7549300.0</td>\n",
       "    </tr>\n",
       "    <tr>\n",
       "      <th>3</th>\n",
       "      <td>462130.0</td>\n",
       "      <td>7549400.0</td>\n",
       "    </tr>\n",
       "    <tr>\n",
       "      <th>4</th>\n",
       "      <td>462200.0</td>\n",
       "      <td>7547400.0</td>\n",
       "    </tr>\n",
       "  </tbody>\n",
       "</table>\n",
       "</div>"
      ],
      "text/plain": [
       "   4.5914e+05  7.5242e+06\n",
       "0    461590.0   7549000.0\n",
       "1    462040.0   7549300.0\n",
       "2    462040.0   7549300.0\n",
       "3    462130.0   7549400.0\n",
       "4    462200.0   7547400.0"
      ]
     },
     "execution_count": 42,
     "metadata": {},
     "output_type": "execute_result"
    }
   ],
   "source": [
    "coordinates_data.head()"
   ]
  },
  {
   "cell_type": "markdown",
   "metadata": {},
   "source": [
    "### Standardization of the predictor features (input.csv)"
   ]
  },
  {
   "cell_type": "code",
   "execution_count": 6,
   "metadata": {},
   "outputs": [],
   "source": [
    "# Standardize the predictor features (input.csv) by removing the mean and scaling to unit variance. \n",
    "# In other words, z-score the predictor features. You are allowed to use third-party libraries for doing this. \n",
    "\n",
    "# Step 3: Standardization of the predictor features (input.csv)\n",
    "scaler = StandardScaler()\n",
    "input_data_scaled = pd.DataFrame(scaler.fit_transform(input_data), columns=input_data.columns)"
   ]
  },
  {
   "cell_type": "markdown",
   "metadata": {},
   "source": [
    "### Functions and analysis code"
   ]
  },
  {
   "cell_type": "code",
   "execution_count": null,
   "metadata": {},
   "outputs": [],
   "source": [
    "# Include here all the functions and other relevant code that you need in order to implement the task.\n",
    "\n",
    "# Note! Utilize the following two functions in your implementation:\n",
    "\n",
    "### Function for calculating C-index ###\n",
    "# y: array containing true label values.\n",
    "# yp: array containing the predicted label values.\n",
    "def cindex(y, yp):\n",
    "    n = 0\n",
    "    h_num = 0 \n",
    "    for i in range(0, len(y)):\n",
    "        t = y[i]\n",
    "        p = yp[i]\n",
    "        for j in range(i+1, len(y)):\n",
    "            nt = y[j]\n",
    "            np = yp[j]\n",
    "            if (t != nt): \n",
    "                n = n + 1\n",
    "                if (p < np and t < nt) or (p > np and t > nt): \n",
    "                    h_num += 1\n",
    "                elif (p == np):\n",
    "                    h_num += 0.5\n",
    "    return h_num/n\n",
    "\n",
    "\n",
    "### Function for calculating the pairwise spatial distances between the data points ###\n",
    "# The function will return a n-by-n matrix of Euclidean distances. For example, the\n",
    "# distance_matrix element at indices i,j will contain the spatial distance between \n",
    "# data point i and j. Note that the element value is 0 always when i==j.\n",
    "# coordinate_array: n-by-2 array containing the coordinates of the exercise data points.\n",
    "def cdists(coordinate_array):\n",
    "    number_of_observations = coordinate_array.shape[0]\n",
    "    distance_matrix = np.zeros((number_of_observations, number_of_observations))\n",
    "    for i in range(0, number_of_observations):\n",
    "        distance_matrix[i, :] = np.sqrt(np.sum((coordinate_array - coordinate_array[i])**2, axis=1))\n",
    "    return distance_matrix"
   ]
  },
  {
   "cell_type": "code",
   "execution_count": 16,
   "metadata": {},
   "outputs": [],
   "source": [
    "def spatial_knn_cv(input_data, output_data, coordinates_data, k=7, distance_thresholds=range(0, 301, 20)):\n",
    "    distances = cdists(coordinates_data.values)\n",
    "    cindex_results = []\n",
    "    \n",
    "    for d in distance_thresholds:\n",
    "        y_true = []\n",
    "        y_pred = []\n",
    "        \n",
    "        for i in range(len(output_data)):\n",
    "            train_indices = np.where(distances[i] > d)[0]\n",
    "            if len(train_indices) < k:\n",
    "                continue\n",
    "            \n",
    "            knn = KNeighborsRegressor(n_neighbors=k)\n",
    "            knn.fit(input_data.iloc[train_indices], output_data.iloc[train_indices].values.ravel())\n",
    "            pred = knn.predict(input_data.iloc[[i]])[0] \n",
    "            \n",
    "            y_true.append(output_data.iloc[i, 0])\n",
    "            y_pred.append(pred)\n",
    "        \n",
    "        if len(y_true) > 1:\n",
    "            cindex_results.append(cindex(np.array(y_true), np.array(y_pred)))\n",
    "        else:\n",
    "            cindex_results.append(None)\n",
    "    \n",
    "    return distance_thresholds, cindex_results\n"
   ]
  },
  {
   "cell_type": "code",
   "execution_count": 17,
   "metadata": {},
   "outputs": [],
   "source": [
    "# Running the spatial KNN cross-validation\n",
    "thresholds, cindex_values = spatial_knn_cv(input_data_scaled, output_data, coordinates_data)"
   ]
  },
  {
   "cell_type": "code",
   "execution_count": 20,
   "metadata": {},
   "outputs": [
    {
     "name": "stdout",
     "output_type": "stream",
     "text": [
      "[0.7141470586586385, 0.7063399459553402, 0.7006271338950838, 0.692010963104989, 0.6847410033021063, 0.6806631262929512, 0.616538352647011, 0.5995540895100661, 0.5956293343648912, 0.5940536157783496, 0.590367478457821, 0.5874290803998408, 0.5864644476960941, 0.5865709672536454, 0.5867139277124644, 0.5860043813175909]\n"
     ]
    }
   ],
   "source": [
    "print(cindex_values)"
   ]
  },
  {
   "cell_type": "code",
   "execution_count": 43,
   "metadata": {},
   "outputs": [
    {
     "name": "stdout",
     "output_type": "stream",
     "text": [
      "range(0, 301, 20)\n"
     ]
    }
   ],
   "source": [
    "print(thresholds)"
   ]
  },
  {
   "cell_type": "markdown",
   "metadata": {},
   "source": [
    "### Results for spatial leave-one-out cross-validation with 7-nearest neighbor regression model"
   ]
  },
  {
   "cell_type": "code",
   "execution_count": 22,
   "metadata": {},
   "outputs": [
    {
     "data": {
      "image/png": "[encoded data removed]",
      "text/plain": [
       "<Figure size 720x432 with 1 Axes>"
      ]
     },
     "metadata": {
      "needs_background": "light"
     },
     "output_type": "display_data"
    }
   ],
   "source": [
    "# In this cell, run your script for the Spatial leave-One-Out cross-validation \n",
    "# with 7-nearest neighbor regression model and visualize the results as \n",
    "# requested in the task assignment.\n",
    "\n",
    "plt.figure(figsize=(10,6))\n",
    "plt.plot(thresholds, cindex_values, marker='o')\n",
    "plt.xlabel(\"Distance Threshold (m)\")\n",
    "plt.ylabel(\"C-index\")\n",
    "plt.title(\"C-index vs. Distance Threshold in Spatial KNN\")\n",
    "plt.grid()\n",
    "plt.show()"
   ]
  },
  {
   "cell_type": "code",
   "execution_count": 44,
   "metadata": {},
   "outputs": [
    {
     "data": {
      "image/png": "[encoded data removed]",
      "text/plain": [
       "<Figure size 720x432 with 1 Axes>"
      ]
     },
     "metadata": {
      "needs_background": "light"
     },
     "output_type": "display_data"
    }
   ],
   "source": [
    "# Convert None values to NaN\n",
    "cindex_values_clean = [val if val is not None else np.nan for val in cindex_values]\n",
    "\n",
    "# Remove NaN values for plotting\n",
    "thresholds_clean = np.array(thresholds)[~np.isnan(cindex_values_clean)]\n",
    "cindex_values_clean = np.array(cindex_values_clean)[~np.isnan(cindex_values_clean)]\n",
    "\n",
    "# Plot the cleaned data\n",
    "plt.figure(figsize=(10,6))\n",
    "sns.barplot(x=thresholds_clean, y=cindex_values_clean)\n",
    "plt.xlabel(\"Distance Threshold (m)\")\n",
    "plt.ylabel(\"C-index\")\n",
    "plt.title(\"Bar Chart of C-index vs. Distance Threshold in Spatial KNN\")\n",
    "plt.grid()\n",
    "plt.show()\n"
   ]
  },
  {
   "cell_type": "markdown",
   "metadata": {},
   "source": [
    "## Analysis of the results"
   ]
  },
  {
   "cell_type": "markdown",
   "metadata": {},
   "source": [
    "### In this cell, you need to answer the client's questions:\n",
    "\n",
    "\n",
    "1. What happens to the 7NN performance as the prediction distance increases?\n",
    "\n",
    "\n",
    "2. Do you think the results behave as was somewhat expected? Do they make sense, why?\n",
    "\n",
    "\n",
    "3. If we require that the 7NN must have at least C-index performance of 0.68, then up to what distance should we trust the 7NN predictions, based on the results?"
   ]
  },
  {
   "cell_type": "markdown",
   "metadata": {},
   "source": [
    "1. What happens to the 7NN performance as the prediction distance increases?\n",
    "\n",
    "**Answer** I think as the geographical distance between known and unknown data points increases, the performance of the 7NN regression model declines as seen from the plot. This cab be seen from the C-index values, which start high at 0.714 when using nearby data points but gradually decrease as the distance threshold increases. I can see the model maintains relatively good predictive accuracy up to 100m, with a C-index above 0.68. However, beyond this threshold, there is a sharp decline in performance that can be seen, with the C-index dropping below 0.60 after 140m. At distances of 200m and beyond, the performance stabilizes around 0.586, which indicates a significant reduction in predictive accuracy. This trend suggests that the spatial correlation between data points weakens as the distance increases, which leads to less reliable predictions.\n",
    "\n",
    "2. Do the results behave as expected? Do they make sense? Why?\n",
    "**Answer** Yes, i think the results behave as expected and are consistent with spatial autocorrelation principles in geostatistical modeling. In spatial analysis, the closer data points mostly tend to have stronger relationships due to underlying spatial patterns. Therefore, it makes sense that the 7NN model performs well when using neighbors within 100m but it loses accuracy when distant points are used for prediction. I think the observed sharp decline beyond 100m indicates that after this distance, the spatial influence of nearby observations diminishes, which in turn reduces the model’s predictive power. The stabilization of the C-index at around 0.586 for large distances seems to suggests that at these distances, the predictive relationship becomes weaker, which makes spatial proximity less relevant. These observations align with general expectations for spatial models, which reinforces that geographical proximity plays a key role in predictive accuracy.\n",
    "\n",
    "3. If we require that the 7NN must have at least C-index performance of 0.68, up to what distance should we trust the 7NN predictions?\n",
    "**Answer** From the plot, the C-index drops below 0.68 around 100 meters. I thik this means that:\n",
    "Up to ~100m, the model provides reliable predictions based on C-index (C-index ≥ 0.68).\n",
    "Beyond 100m, predictions become less trustworthy.\n",
    "Thus, from this what I can conclude is that for practical use, the 7NN model should be trusted for distances up to approximately 100 meters for ensuring reliable water permeability predictions."
   ]
  }
 ],
 "metadata": {
  "kernelspec": {
   "display_name": "Python 3 (ipykernel)",
   "language": "python",
   "name": "python3"
  },
  "language_info": {
   "codemirror_mode": {
    "name": "ipython",
    "version": 3
   },
   "file_extension": ".py",
   "mimetype": "text/x-python",
   "name": "python",
   "nbconvert_exporter": "python",
   "pygments_lexer": "ipython3",
   "version": "3.10.2"
  },
  "toc": {
   "base_numbering": 1,
   "nav_menu": {},
   "number_sections": false,
   "sideBar": true,
   "skip_h1_title": false,
   "title_cell": "Table of Contents",
   "title_sidebar": "Contents",
   "toc_cell": false,
   "toc_position": {},
   "toc_section_display": true,
   "toc_window_display": true
  },
  "varInspector": {
   "cols": {
    "lenName": 16,
    "lenType": 16,
    "lenVar": 40
   },
   "kernels_config": {
    "python": {
     "delete_cmd_postfix": "",
     "delete_cmd_prefix": "del ",
     "library": "var_list.py",
     "varRefreshCmd": "print(var_dic_list())"
    },
    "r": {
     "delete_cmd_postfix": ") ",
     "delete_cmd_prefix": "rm(",
     "library": "var_list.r",
     "varRefreshCmd": "cat(var_dic_list()) "
    }
   },
   "types_to_exclude": [
    "module",
    "function",
    "builtin_function_or_method",
    "instance",
    "_Feature"
   ],
   "window_display": false
  }
 },
 "nbformat": 4,
 "nbformat_minor": 2
}
