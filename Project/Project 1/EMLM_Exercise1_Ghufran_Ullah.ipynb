{
 "cells": [
  {
   "cell_type": "markdown",
   "metadata": {},
   "source": [
    "Student name: Ghufran Ullah <br>\n",
    "Student number 2411327 <br>\n",
    "Februaury, 05, 2025  <br>"
   ]
  },
  {
   "cell_type": "markdown",
   "metadata": {},
   "source": [
    "# Exercise 1 | TKO_7092 Evaluation of Machine Learning Methods 2025"
   ]
  },
  {
   "cell_type": "markdown",
   "metadata": {},
   "source": [
    "##### Prediction of the metal ion content from multi-parameter data\n",
    "<b> Use K-Nearest Neighbor Regression with euclidean distance to predict total metal concentration (c_total), concentration of Cadmium (Cd) and concentration of Lead (Pb), using number of neighbors k = 1, 3, 5, 7.</b>\n",
    "\n",
    "    - You may use Nearest Neighbor Regression from https://scikit-learn.org/stable/modules/neighbors.html   \n",
    "    - Implement Leave-One-Out cross-validation and calculate the C-index for each output (c_total, Cd, Pb). \n",
    "    - Implement Leave-Replicas-Out cross-validation and calculate the C-index for each output (c_total, Cd, Pb).\n",
    "    - Return your solution as a Jupyter Notebook .ipynb notebook and as a PDF-file made from it. Please, add your full name to the file name.\n",
    "    - The exercise will be graded by a maximum of 2 points.\n",
    "    - Submit to moodle your solution on ** Wednesday 5 of February ** at the latest.\n",
    "  \n",
    "<b>Please be aware that you are required to submit your individual solution.<br> \n",
    "Submissions with identical or similar code will result in a failure for the exercise.</b>"
   ]
  },
  {
   "cell_type": "markdown",
   "metadata": {},
   "source": [
    "## Import libraries"
   ]
  },
  {
   "cell_type": "code",
   "execution_count": 67,
   "metadata": {
    "tags": []
   },
   "outputs": [],
   "source": [
    "import pandas as pd\n",
    "from scipy.stats import kendalltau\n",
    "from sklearn.neighbors import KNeighborsRegressor\n",
    "from sklearn.model_selection import LeaveOneOut\n",
    "import numpy as np\n",
    "import matplotlib.pyplot as plt\n",
    "from scipy.stats import somersd"
   ]
  },
  {
   "cell_type": "markdown",
   "metadata": {},
   "source": [
    "## Read and visualize the dataset"
   ]
  },
  {
   "cell_type": "markdown",
   "metadata": {
    "jp-MarkdownHeadingCollapsed": true
   },
   "source": [
    "<p> <b>Note:</b> This dataset differs slightly from the one used in the video lectures. <br>\n",
    "<b>In this dataset, some mixtures have 3 replicas, while others have 4 replicas. </b> </p> \n",
    "\n",
    "In the following cell: \n",
    "- Read the file water_data.csv\n",
    "- Print the dimesions of the dataset (i.e. number of rows and columns) and display the first 5 rows.\n",
    "- Identify the inputs and the outputs columns.\n",
    "- Provide the number of mixtures with 3 replicas and 4 replicas, respectively."
   ]
  },
  {
   "cell_type": "code",
   "execution_count": 68,
   "metadata": {
    "tags": []
   },
   "outputs": [],
   "source": [
    "# Here we are reading the dataset\n",
    "file_path = 'water_data.csv'\n",
    "df = pd.read_csv(file_path)"
   ]
  },
  {
   "cell_type": "code",
   "execution_count": 54,
   "metadata": {},
   "outputs": [
    {
     "data": {
      "text/html": [
       "<div>\n",
       "<style scoped>\n",
       "    .dataframe tbody tr th:only-of-type {\n",
       "        vertical-align: middle;\n",
       "    }\n",
       "\n",
       "    .dataframe tbody tr th {\n",
       "        vertical-align: top;\n",
       "    }\n",
       "\n",
       "    .dataframe thead th {\n",
       "        text-align: right;\n",
       "    }\n",
       "</style>\n",
       "<table border=\"1\" class=\"dataframe\">\n",
       "  <thead>\n",
       "    <tr style=\"text-align: right;\">\n",
       "      <th></th>\n",
       "      <th>c_total</th>\n",
       "      <th>Cd</th>\n",
       "      <th>Pb</th>\n",
       "      <th>Mod1</th>\n",
       "      <th>Mod2</th>\n",
       "      <th>Mod3</th>\n",
       "    </tr>\n",
       "  </thead>\n",
       "  <tbody>\n",
       "    <tr>\n",
       "      <th>0</th>\n",
       "      <td>0.0</td>\n",
       "      <td>0.0</td>\n",
       "      <td>0.0</td>\n",
       "      <td>-0.999216</td>\n",
       "      <td>-0.714208</td>\n",
       "      <td>-0.414911</td>\n",
       "    </tr>\n",
       "    <tr>\n",
       "      <th>1</th>\n",
       "      <td>0.0</td>\n",
       "      <td>0.0</td>\n",
       "      <td>0.0</td>\n",
       "      <td>-0.990800</td>\n",
       "      <td>-0.714373</td>\n",
       "      <td>-0.238335</td>\n",
       "    </tr>\n",
       "    <tr>\n",
       "      <th>2</th>\n",
       "      <td>0.0</td>\n",
       "      <td>0.0</td>\n",
       "      <td>0.0</td>\n",
       "      <td>-0.990539</td>\n",
       "      <td>-0.714125</td>\n",
       "      <td>0.020788</td>\n",
       "    </tr>\n",
       "    <tr>\n",
       "      <th>3</th>\n",
       "      <td>14.0</td>\n",
       "      <td>0.0</td>\n",
       "      <td>14.0</td>\n",
       "      <td>-1.001247</td>\n",
       "      <td>-0.713546</td>\n",
       "      <td>0.945465</td>\n",
       "    </tr>\n",
       "    <tr>\n",
       "      <th>4</th>\n",
       "      <td>14.0</td>\n",
       "      <td>0.0</td>\n",
       "      <td>14.0</td>\n",
       "      <td>-1.013727</td>\n",
       "      <td>-0.714125</td>\n",
       "      <td>0.569631</td>\n",
       "    </tr>\n",
       "    <tr>\n",
       "      <th>...</th>\n",
       "      <td>...</td>\n",
       "      <td>...</td>\n",
       "      <td>...</td>\n",
       "      <td>...</td>\n",
       "      <td>...</td>\n",
       "      <td>...</td>\n",
       "    </tr>\n",
       "    <tr>\n",
       "      <th>220</th>\n",
       "      <td>5000.0</td>\n",
       "      <td>4000.0</td>\n",
       "      <td>1000.0</td>\n",
       "      <td>-0.874613</td>\n",
       "      <td>-0.584157</td>\n",
       "      <td>-1.515186</td>\n",
       "    </tr>\n",
       "    <tr>\n",
       "      <th>221</th>\n",
       "      <td>5000.0</td>\n",
       "      <td>4000.0</td>\n",
       "      <td>1000.0</td>\n",
       "      <td>-0.875954</td>\n",
       "      <td>-0.604495</td>\n",
       "      <td>-1.516845</td>\n",
       "    </tr>\n",
       "    <tr>\n",
       "      <th>222</th>\n",
       "      <td>5000.0</td>\n",
       "      <td>5000.0</td>\n",
       "      <td>0.0</td>\n",
       "      <td>-0.872241</td>\n",
       "      <td>-0.349768</td>\n",
       "      <td>0.499810</td>\n",
       "    </tr>\n",
       "    <tr>\n",
       "      <th>223</th>\n",
       "      <td>5000.0</td>\n",
       "      <td>5000.0</td>\n",
       "      <td>0.0</td>\n",
       "      <td>-0.872021</td>\n",
       "      <td>-0.354729</td>\n",
       "      <td>0.777301</td>\n",
       "    </tr>\n",
       "    <tr>\n",
       "      <th>224</th>\n",
       "      <td>5000.0</td>\n",
       "      <td>5000.0</td>\n",
       "      <td>0.0</td>\n",
       "      <td>-0.865256</td>\n",
       "      <td>-0.373414</td>\n",
       "      <td>0.712840</td>\n",
       "    </tr>\n",
       "  </tbody>\n",
       "</table>\n",
       "<p>225 rows × 6 columns</p>\n",
       "</div>"
      ],
      "text/plain": [
       "     c_total      Cd      Pb      Mod1      Mod2      Mod3\n",
       "0        0.0     0.0     0.0 -0.999216 -0.714208 -0.414911\n",
       "1        0.0     0.0     0.0 -0.990800 -0.714373 -0.238335\n",
       "2        0.0     0.0     0.0 -0.990539 -0.714125  0.020788\n",
       "3       14.0     0.0    14.0 -1.001247 -0.713546  0.945465\n",
       "4       14.0     0.0    14.0 -1.013727 -0.714125  0.569631\n",
       "..       ...     ...     ...       ...       ...       ...\n",
       "220   5000.0  4000.0  1000.0 -0.874613 -0.584157 -1.515186\n",
       "221   5000.0  4000.0  1000.0 -0.875954 -0.604495 -1.516845\n",
       "222   5000.0  5000.0     0.0 -0.872241 -0.349768  0.499810\n",
       "223   5000.0  5000.0     0.0 -0.872021 -0.354729  0.777301\n",
       "224   5000.0  5000.0     0.0 -0.865256 -0.373414  0.712840\n",
       "\n",
       "[225 rows x 6 columns]"
      ]
     },
     "execution_count": 54,
     "metadata": {},
     "output_type": "execute_result"
    }
   ],
   "source": [
    "df"
   ]
  },
  {
   "cell_type": "code",
   "execution_count": 55,
   "metadata": {},
   "outputs": [
    {
     "data": {
      "text/html": [
       "<div>\n",
       "<style scoped>\n",
       "    .dataframe tbody tr th:only-of-type {\n",
       "        vertical-align: middle;\n",
       "    }\n",
       "\n",
       "    .dataframe tbody tr th {\n",
       "        vertical-align: top;\n",
       "    }\n",
       "\n",
       "    .dataframe thead th {\n",
       "        text-align: right;\n",
       "    }\n",
       "</style>\n",
       "<table border=\"1\" class=\"dataframe\">\n",
       "  <thead>\n",
       "    <tr style=\"text-align: right;\">\n",
       "      <th></th>\n",
       "      <th>c_total</th>\n",
       "      <th>Cd</th>\n",
       "      <th>Pb</th>\n",
       "      <th>Mod1</th>\n",
       "      <th>Mod2</th>\n",
       "      <th>Mod3</th>\n",
       "    </tr>\n",
       "  </thead>\n",
       "  <tbody>\n",
       "    <tr>\n",
       "      <th>0</th>\n",
       "      <td>0.0</td>\n",
       "      <td>0.0</td>\n",
       "      <td>0.0</td>\n",
       "      <td>-0.999216</td>\n",
       "      <td>-0.714208</td>\n",
       "      <td>-0.414911</td>\n",
       "    </tr>\n",
       "    <tr>\n",
       "      <th>1</th>\n",
       "      <td>0.0</td>\n",
       "      <td>0.0</td>\n",
       "      <td>0.0</td>\n",
       "      <td>-0.990800</td>\n",
       "      <td>-0.714373</td>\n",
       "      <td>-0.238335</td>\n",
       "    </tr>\n",
       "    <tr>\n",
       "      <th>2</th>\n",
       "      <td>0.0</td>\n",
       "      <td>0.0</td>\n",
       "      <td>0.0</td>\n",
       "      <td>-0.990539</td>\n",
       "      <td>-0.714125</td>\n",
       "      <td>0.020788</td>\n",
       "    </tr>\n",
       "    <tr>\n",
       "      <th>3</th>\n",
       "      <td>14.0</td>\n",
       "      <td>0.0</td>\n",
       "      <td>14.0</td>\n",
       "      <td>-1.001247</td>\n",
       "      <td>-0.713546</td>\n",
       "      <td>0.945465</td>\n",
       "    </tr>\n",
       "    <tr>\n",
       "      <th>4</th>\n",
       "      <td>14.0</td>\n",
       "      <td>0.0</td>\n",
       "      <td>14.0</td>\n",
       "      <td>-1.013727</td>\n",
       "      <td>-0.714125</td>\n",
       "      <td>0.569631</td>\n",
       "    </tr>\n",
       "  </tbody>\n",
       "</table>\n",
       "</div>"
      ],
      "text/plain": [
       "   c_total   Cd    Pb      Mod1      Mod2      Mod3\n",
       "0      0.0  0.0   0.0 -0.999216 -0.714208 -0.414911\n",
       "1      0.0  0.0   0.0 -0.990800 -0.714373 -0.238335\n",
       "2      0.0  0.0   0.0 -0.990539 -0.714125  0.020788\n",
       "3     14.0  0.0  14.0 -1.001247 -0.713546  0.945465\n",
       "4     14.0  0.0  14.0 -1.013727 -0.714125  0.569631"
      ]
     },
     "execution_count": 55,
     "metadata": {},
     "output_type": "execute_result"
    }
   ],
   "source": [
    "df.head()"
   ]
  },
  {
   "cell_type": "code",
   "execution_count": 69,
   "metadata": {},
   "outputs": [
    {
     "name": "stdout",
     "output_type": "stream",
     "text": [
      "Dataset Dimensions: (225, 6)\n"
     ]
    },
    {
     "data": {
      "text/html": [
       "<div>\n",
       "<style scoped>\n",
       "    .dataframe tbody tr th:only-of-type {\n",
       "        vertical-align: middle;\n",
       "    }\n",
       "\n",
       "    .dataframe tbody tr th {\n",
       "        vertical-align: top;\n",
       "    }\n",
       "\n",
       "    .dataframe thead th {\n",
       "        text-align: right;\n",
       "    }\n",
       "</style>\n",
       "<table border=\"1\" class=\"dataframe\">\n",
       "  <thead>\n",
       "    <tr style=\"text-align: right;\">\n",
       "      <th></th>\n",
       "      <th>c_total</th>\n",
       "      <th>Cd</th>\n",
       "      <th>Pb</th>\n",
       "      <th>Mod1</th>\n",
       "      <th>Mod2</th>\n",
       "      <th>Mod3</th>\n",
       "    </tr>\n",
       "  </thead>\n",
       "  <tbody>\n",
       "    <tr>\n",
       "      <th>0</th>\n",
       "      <td>0.0</td>\n",
       "      <td>0.0</td>\n",
       "      <td>0.0</td>\n",
       "      <td>-0.999216</td>\n",
       "      <td>-0.714208</td>\n",
       "      <td>-0.414911</td>\n",
       "    </tr>\n",
       "    <tr>\n",
       "      <th>1</th>\n",
       "      <td>0.0</td>\n",
       "      <td>0.0</td>\n",
       "      <td>0.0</td>\n",
       "      <td>-0.990800</td>\n",
       "      <td>-0.714373</td>\n",
       "      <td>-0.238335</td>\n",
       "    </tr>\n",
       "    <tr>\n",
       "      <th>2</th>\n",
       "      <td>0.0</td>\n",
       "      <td>0.0</td>\n",
       "      <td>0.0</td>\n",
       "      <td>-0.990539</td>\n",
       "      <td>-0.714125</td>\n",
       "      <td>0.020788</td>\n",
       "    </tr>\n",
       "    <tr>\n",
       "      <th>3</th>\n",
       "      <td>14.0</td>\n",
       "      <td>0.0</td>\n",
       "      <td>14.0</td>\n",
       "      <td>-1.001247</td>\n",
       "      <td>-0.713546</td>\n",
       "      <td>0.945465</td>\n",
       "    </tr>\n",
       "    <tr>\n",
       "      <th>4</th>\n",
       "      <td>14.0</td>\n",
       "      <td>0.0</td>\n",
       "      <td>14.0</td>\n",
       "      <td>-1.013727</td>\n",
       "      <td>-0.714125</td>\n",
       "      <td>0.569631</td>\n",
       "    </tr>\n",
       "  </tbody>\n",
       "</table>\n",
       "</div>"
      ],
      "text/plain": [
       "   c_total   Cd    Pb      Mod1      Mod2      Mod3\n",
       "0      0.0  0.0   0.0 -0.999216 -0.714208 -0.414911\n",
       "1      0.0  0.0   0.0 -0.990800 -0.714373 -0.238335\n",
       "2      0.0  0.0   0.0 -0.990539 -0.714125  0.020788\n",
       "3     14.0  0.0  14.0 -1.001247 -0.713546  0.945465\n",
       "4     14.0  0.0  14.0 -1.013727 -0.714125  0.569631"
      ]
     },
     "execution_count": 69,
     "metadata": {},
     "output_type": "execute_result"
    }
   ],
   "source": [
    "# Print dataset dimensions and first 5 rows\n",
    "print(f\"Dataset Dimensions: {df.shape}\")\n",
    "df.head()"
   ]
  },
  {
   "cell_type": "code",
   "execution_count": 71,
   "metadata": {},
   "outputs": [
    {
     "name": "stdout",
     "output_type": "stream",
     "text": [
      "Number of mixtures with 3 replicas: 129\n",
      "Number of mixtures with 4 replicas: 96\n"
     ]
    }
   ],
   "source": [
    "# Identifying unique mixtures based on the first three columns (output columns)\n",
    "grouped = df.groupby(['c_total', 'Cd', 'Pb'])\n",
    "\n",
    "# Counting the number of replicas for each unique mixture\n",
    "replica_counts = grouped.size().reset_index(name='Replica_Count')\n",
    "\n",
    "# Merging back with the original dataset to retain the replica count information\n",
    "df = df.merge(replica_counts, on=['c_total', 'Cd', 'Pb'], how='left')\n",
    "\n",
    "# Print number of mixtures with 3 and 4 replicas\n",
    "num_3_replicas = (df['Replica_Count'] == 3).sum()\n",
    "num_4_replicas = (df['Replica_Count'] == 4).sum()\n",
    "print(f\"Number of mixtures with 3 replicas: {num_3_replicas}\")\n",
    "print(f\"Number of mixtures with 4 replicas: {num_4_replicas}\")"
   ]
  },
  {
   "cell_type": "code",
   "execution_count": 58,
   "metadata": {},
   "outputs": [],
   "source": [
    "# Define input and output variables\n",
    "X = df[['Mod1', 'Mod2', 'Mod3']].values\n",
    "y = df[['c_total', 'Cd', 'Pb']].values"
   ]
  },
  {
   "cell_type": "markdown",
   "metadata": {},
   "source": [
    "## C-index code "
   ]
  },
  {
   "cell_type": "code",
   "execution_count": 59,
   "metadata": {},
   "outputs": [],
   "source": [
    "# In this cell is the fuction that computes the c-index value based on Somers'D statistic.\n",
    "# Use this fuction as the evaluation metric in the Leave-One-Out (LOOCV) and Leave-Replicas-Out (LROCV) cross-validation methods.\n",
    "\n",
    "def cindex(true, pred):\n",
    "    s_d = somersd(true, y=pred, alternative='two-sided')\n",
    "    c_index = (s_d.statistic + 1.0)/2.0\n",
    "    return c_index"
   ]
  },
  {
   "cell_type": "markdown",
   "metadata": {},
   "source": [
    "## Functions"
   ]
  },
  {
   "cell_type": "code",
   "execution_count": 60,
   "metadata": {},
   "outputs": [],
   "source": [
    "# In this cell add the functions that you need for the data analysis part."
   ]
  },
  {
   "cell_type": "markdown",
   "metadata": {},
   "source": [
    "## Results for Leave-One-Out cross-validation"
   ]
  },
  {
   "cell_type": "code",
   "execution_count": 61,
   "metadata": {},
   "outputs": [],
   "source": [
    "# Here run your script for Leave-One-Out cross-validation and print the corresponding results."
   ]
  },
  {
   "cell_type": "code",
   "execution_count": 62,
   "metadata": {},
   "outputs": [
    {
     "name": "stdout",
     "output_type": "stream",
     "text": [
      "   k  C-index c_total  C-index Cd  C-index Pb\n",
      "0  1         0.908283    0.921869    0.880549\n",
      "1  3         0.914191    0.899591    0.874452\n",
      "2  5         0.894101    0.861966    0.854261\n",
      "3  7         0.873729    0.814152    0.835533\n"
     ]
    }
   ],
   "source": [
    "# Initialize Leave-One-Out cross-validation\n",
    "loo = LeaveOneOut()\n",
    "\n",
    "# Evaluate C-index for different k values\n",
    "k_values = [1, 3, 5, 7]\n",
    "c_index_results = []\n",
    "\n",
    "for k in k_values:\n",
    "    # Initialize lists to store true and predicted values for each output\n",
    "    y_true_all = [[] for _ in range(3)]\n",
    "    y_pred_all = [[] for _ in range(3)]\n",
    "    \n",
    "    for train_index, test_index in loo.split(X):\n",
    "        X_train, X_test = X[train_index], X[test_index]\n",
    "        y_train, y_test = y[train_index], y[test_index]\n",
    "\n",
    "        # Train Nearest Neighbors Regression model\n",
    "        model = KNeighborsRegressor(n_neighbors=k)\n",
    "        model.fit(X_train, y_train)\n",
    "\n",
    "        # Make predictions\n",
    "        y_pred = model.predict(X_test)\n",
    "\n",
    "        # Store true and predicted values for each output\n",
    "        for i in range(3):\n",
    "            y_true_all[i].append(y_test[:, i][0])  # Ensure scalar values\n",
    "            y_pred_all[i].append(y_pred[:, i][0])\n",
    "    \n",
    "    # Compute C-index for each output variable\n",
    "    c_indices = [cindex(y_true_all[i], y_pred_all[i]) for i in range(3)]\n",
    "    c_index_results.append([k] + c_indices)\n",
    "\n",
    "# Convert results to a DataFrame and display\n",
    "c_index_df = pd.DataFrame(c_index_results, columns=['k', 'C-index c_total', 'C-index Cd', 'C-index Pb'])\n",
    "print(c_index_df)\n"
   ]
  },
  {
   "cell_type": "markdown",
   "metadata": {},
   "source": [
    "## Results for Leave-Replicas-Out cross-validation"
   ]
  },
  {
   "cell_type": "code",
   "execution_count": 63,
   "metadata": {},
   "outputs": [],
   "source": [
    "# Here run your script for Leave-Replicas-Out cross-validation and print the corresponding results."
   ]
  },
  {
   "cell_type": "code",
   "execution_count": 64,
   "metadata": {},
   "outputs": [
    {
     "name": "stdout",
     "output_type": "stream",
     "text": [
      "Leave-Replicas-Out Cross-Validation Results:\n",
      "   k  C-index c_total  C-index Cd  C-index Pb\n",
      "0  1         0.818413    0.778427    0.737775\n",
      "1  3         0.818673    0.761452    0.768948\n",
      "2  5         0.811702    0.739717    0.747839\n",
      "3  7         0.816371    0.715309    0.761849\n"
     ]
    }
   ],
   "source": [
    "c_index_results_lro = []\n",
    "\n",
    "for k in k_values:\n",
    "    y_true_all = [[] for _ in range(3)]\n",
    "    y_pred_all = [[] for _ in range(3)]\n",
    "    \n",
    "    for mixture, group in df.groupby(['c_total', 'Cd', 'Pb']):\n",
    "        if len(group) > 1:  # Ensure there are replicas\n",
    "            test = group  # Use all replicas as test data\n",
    "            train = df.drop(test.index)  # Exclude all replicas from training\n",
    "            \n",
    "            X_train, y_train = train[['Mod1', 'Mod2', 'Mod3']], train[['c_total', 'Cd', 'Pb']]\n",
    "            X_test, y_test = test[['Mod1', 'Mod2', 'Mod3']], test[['c_total', 'Cd', 'Pb']]\n",
    "\n",
    "            model = KNeighborsRegressor(n_neighbors=min(k, len(X_train)))\n",
    "            model.fit(X_train, y_train)\n",
    "            y_pred = model.predict(X_test)\n",
    "            \n",
    "            for i in range(3):\n",
    "                y_true_all[i].extend(y_test.iloc[:, i].values)\n",
    "                y_pred_all[i].extend(y_pred[:, i])\n",
    "    \n",
    "    c_indices = [cindex(y_true_all[i], y_pred_all[i]) for i in range(3)]\n",
    "    c_index_results_lro.append([k] + c_indices)\n",
    "\n",
    "# Convert results to a DataFrame and display\n",
    "c_index_df_lro = pd.DataFrame(c_index_results_lro, columns=['k', 'C-index c_total', 'C-index Cd', 'C-index Pb'])\n",
    "print(\"Leave-Replicas-Out Cross-Validation Results:\")\n",
    "print(c_index_df_lro)\n"
   ]
  },
  {
   "cell_type": "markdown",
   "metadata": {},
   "source": [
    "## Plot Leave-One-Out and Leave-Replicas-Out Results"
   ]
  },
  {
   "cell_type": "markdown",
   "metadata": {},
   "source": [
    "Note: You may plot the results as they were presented in the video lecture (refer to MOOC2-Module 2 .pptx slides)."
   ]
  },
  {
   "cell_type": "code",
   "execution_count": 72,
   "metadata": {},
   "outputs": [
    {
     "name": "stdout",
     "output_type": "stream",
     "text": [
      "   k  C-index c_total  C-index Cd  C-index Pb\n",
      "0  1         0.908283    0.921869    0.880549\n",
      "1  3         0.914191    0.899591    0.874452\n",
      "2  5         0.894101    0.861966    0.854261\n",
      "3  7         0.873729    0.814152    0.835533\n",
      "   k  C-index c_total  C-index Cd  C-index Pb\n",
      "0  1         0.818413    0.778427    0.737775\n",
      "1  3         0.818673    0.761452    0.768948\n",
      "2  5         0.811702    0.739717    0.747839\n",
      "3  7         0.816371    0.715309    0.761849\n"
     ]
    }
   ],
   "source": [
    "# just to verify the variables\n",
    "print(c_index_df)\n",
    "print(c_index_df_lro)"
   ]
  },
  {
   "cell_type": "code",
   "execution_count": 66,
   "metadata": {},
   "outputs": [
    {
     "data": {
      "image/png": "[encoded data removed]",
      "text/plain": [
       "<Figure size 432x288 with 1 Axes>"
      ]
     },
     "metadata": {
      "needs_background": "light"
     },
     "output_type": "display_data"
    },
    {
     "data": {
      "image/png": "[encoded data removed]",
      "text/plain": [
       "<Figure size 432x288 with 1 Axes>"
      ]
     },
     "metadata": {
      "needs_background": "light"
     },
     "output_type": "display_data"
    },
    {
     "data": {
      "image/png": "[encoded data removed]",
      "text/plain": [
       "<Figure size 432x288 with 1 Axes>"
      ]
     },
     "metadata": {
      "needs_background": "light"
     },
     "output_type": "display_data"
    }
   ],
   "source": [
    "#plotting the graphhs between k-valus and c-index for total, Cd and Pb \n",
    "outputs = ['C-index c_total', 'C-index Cd', 'C-index Pb']\n",
    "for output in outputs:\n",
    "    plt.figure(figsize=(6, 4))\n",
    "    plt.plot(k_values, c_index_df[output], marker='o', linestyle='-', label=f\"LOOCV {output}\")\n",
    "    plt.plot(k_values, c_index_df_lro[output], marker='s', linestyle='--', label=f\"LROCV {output}\")\n",
    "    \n",
    "    plt.xlabel(\"Number of Neighbors (k)\")\n",
    "    plt.ylabel(\"C-Index\")\n",
    "    plt.title(f\"{output}\")\n",
    "    plt.legend()\n",
    "    plt.grid()\n",
    "    plt.show()\n"
   ]
  },
  {
   "cell_type": "markdown",
   "metadata": {},
   "source": [
    "## Interpretation of results\n",
    "#### Answer the following questions based on the results obtained\n",
    "1. Which cross-validation approach produced more optimistic results, and why?\n",
    "2. Which cross-validation method provides a better estimate of the model's performance on unseen mixtures? Explain your answer."
   ]
  },
  {
   "cell_type": "markdown",
   "metadata": {},
   "source": [
    "#### Answers:"
   ]
  },
  {
   "cell_type": "markdown",
   "metadata": {},
   "source": [
    "**Answer: 1** I think the Leave-One-Out cross-validation (LOOCV) generally produces more optimistic results compared to Leave-Replicas-Out cross-validation (LROCV). This is because LOOCV removes only one single sample at a time, which allows the model to train on almost the entire dataset, which leads to lower variability in predictions and often sometimes higher C-index values. On the other hand, LROCV removes entire sets of replicated measurements for a given mixture, which makes the test set more independent and which in turn prevents the model from relying on nearly identical training samples. This results in a more realistic evaluation of generalization performance, which often leads to lower C-index values compared to LOOCV."
   ]
  },
  {
   "cell_type": "markdown",
   "metadata": {},
   "source": [
    "**Answer: 2** I think LROCV provides a better estimate of the model’s performance on unseen mixtures compared to LeaveLOOCV. I think this is because LROCV removes all replicas of a given mixture from the training set, which ensures that the model is tested on completely unseen data. on the other hand LOOCV only removes one single instance at a time, which means that the test sample often has very similar training samples available, which leads to an overestimation of the model’s performance. I think by ensuring that the test data is truly independent of the training set, LROCV is able to give a more realistic measure of the model’s generalization ability to new mixtures."
   ]
  }
 ],
 "metadata": {
  "kernelspec": {
   "display_name": "Python 3 (ipykernel)",
   "language": "python",
   "name": "python3"
  },
  "language_info": {
   "codemirror_mode": {
    "name": "ipython",
    "version": 3
   },
   "file_extension": ".py",
   "mimetype": "text/x-python",
   "name": "python",
   "nbconvert_exporter": "python",
   "pygments_lexer": "ipython3",
   "version": "3.10.2"
  },
  "toc": {
   "base_numbering": 1,
   "nav_menu": {},
   "number_sections": false,
   "sideBar": true,
   "skip_h1_title": false,
   "title_cell": "Table of Contents",
   "title_sidebar": "Contents",
   "toc_cell": false,
   "toc_position": {},
   "toc_section_display": true,
   "toc_window_display": true
  },
  "varInspector": {
   "cols": {
    "lenName": 16,
    "lenType": 16,
    "lenVar": 40
   },
   "kernels_config": {
    "python": {
     "delete_cmd_postfix": "",
     "delete_cmd_prefix": "del ",
     "library": "var_list.py",
     "varRefreshCmd": "print(var_dic_list())"
    },
    "r": {
     "delete_cmd_postfix": ") ",
     "delete_cmd_prefix": "rm(",
     "library": "var_list.r",
     "varRefreshCmd": "cat(var_dic_list()) "
    }
   },
   "types_to_exclude": [
    "module",
    "function",
    "builtin_function_or_method",
    "instance",
    "_Feature"
   ],
   "window_display": false
  },
  "widgets": {
   "application/vnd.jupyter.widget-state+json": {
    "state": {},
    "version_major": 2,
    "version_minor": 0
   }
  }
 },
 "nbformat": 4,
 "nbformat_minor": 4
}
